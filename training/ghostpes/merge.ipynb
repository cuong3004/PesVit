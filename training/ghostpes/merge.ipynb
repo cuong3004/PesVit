{
 "cells": [
  {
   "cell_type": "code",
   "execution_count": 1,
   "metadata": {},
   "outputs": [],
   "source": [
    "import wandb\n",
    "api = wandb.Api()\n",
    "\n",
    "import wandb\n",
    "\n",
    "def plot_wandb(name_log, new_new):\n",
    "    \n",
    "    wandb.init(project=\"...\", name=new_new)\n",
    "    \n",
    "    # data_metric = []\n",
    "    log_dict = {}\n",
    "# run is specified by <entity>/<project>/<run id>\n",
    "    for name in name_log:\n",
    "        run = api.run(name)\n",
    "\n",
    "        # save the metrics for the run to a csv file\n",
    "        metrics_dataframe = run.history()\n",
    "        \n",
    "        metric_filter = metrics_dataframe[[\"trainer/global_step\", \"valid_acc_top1_ssl\", \"valid_acc_top5_ssl\"]]\n",
    "        metric_filter = metric_filter.dropna()\n",
    "\n",
    "        for k, v1, v2 in metric_filter.values:\n",
    "            log_dict.update({k:[v1, v2]})\n",
    "        \n",
    "\n",
    "    for k, [v1, v2] in log_dict.items():\n",
    "        wandb.log({\"global_step\":k, \"top1_acc\":v1, \"top5_acc\":v2})\n",
    "        \n",
    "        \n",
    "    wandb.finish()"
   ]
  },
  {
   "cell_type": "code",
   "execution_count": null,
   "metadata": {},
   "outputs": [],
   "source": [
    "plot_wandb(name_log=[\"cuong31120/MocoSau_ver2/2gq9fblx\", \"cuong31120/MocoSau/24zs56v7\", \"cuong31120/MocoSau_ver2/nfjiyg1u\", \"cuong31120/MocoSau_ver2/21mwvgkb\"], new_new=\"ghost_vit_2_train_v1_cuong_momentum_0.99_temp_0.1\")\n",
    "plot_wandb(name_log=[\"cuong31120/MocoSau_ver2/2bga3uay\", \"cuong31120/MocoSau_ver2/2vgyqydb\", \"cuong31120/MocoSau_ver2/3buysq13\"], new_new=\"ghost_vit_2_train_v1_cuong_momentum_0.95_temp_0.1\")\n",
    "plot_wandb(name_log=[\"cuong31120/MocoSau_ver2/24l1gefy\", \"cuong31120/MocoSau_ver2/2dov5wr1\", \"cuong31120/MocoSau_ver2/1yj5pibn\"], new_new=\"ghost_vit_2_train_v1_cuong_momentum_0.999_temp_0.1\")\n",
    "plot_wandb(name_log=[\"cuong31120/MocoSau_ver2/9rpcpp8q\", \"cuong31120/MocoSau_ver2/1tou4w43\", \"cuong31120/MocoSau_ver2/742n20or\"], new_new=\"ghost_vit_2_train_v1_cuong_momentum_0.99_temp_0.01\")\n",
    "plot_wandb(name_log=[\"cuong31120/MocoSau_ver2/io0gxth3\", \"cuong31120/MocoSau_ver2/1begzxrr\"], new_new=\"ghost_vit_2_train_v1_cuong_momentum_0.99_temp_0.5\")"
   ]
  },
  {
   "cell_type": "code",
   "execution_count": null,
   "metadata": {},
   "outputs": [],
   "source": []
  }
 ],
 "metadata": {
  "kernelspec": {
   "display_name": "Python 3.7.15 ('myenv')",
   "language": "python",
   "name": "python3"
  },
  "language_info": {
   "codemirror_mode": {
    "name": "ipython",
    "version": 3
   },
   "file_extension": ".py",
   "mimetype": "text/x-python",
   "name": "python",
   "nbconvert_exporter": "python",
   "pygments_lexer": "ipython3",
   "version": "3.7.15"
  },
  "orig_nbformat": 4,
  "vscode": {
   "interpreter": {
    "hash": "7906d4bed1735f20b1b3bcc7e0b9dd7fbc3cd2953c0ccc943184f1fccd836848"
   }
  }
 },
 "nbformat": 4,
 "nbformat_minor": 2
}
